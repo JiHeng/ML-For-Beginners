{
 "cells": [
  {
   "attachments": {},
   "cell_type": "markdown",
   "metadata": {},
   "source": [
    "## 1 - Tools\n",
    "\n",
    "* Task 1: Load scikit-learn diabetes data\n",
    "    * get sample size. get features\n",
    "* Task 2: Split the data into text and train \n",
    "* Task 3: Train a linear regression model using only BMI\n",
    "    * how to evaluate the model\n",
    "* Task 4: evaluate the model\n",
    "* Task 5: Plot the prediction and data<br/> \n",
    " **Note**: When plotting the regression, no need to generate x = range(-0.1, 0.1), just plot(X_test, y_predict), scatter(X_test, y_test)"
   ]
  },
  {
   "cell_type": "code",
   "execution_count": 1,
   "metadata": {},
   "outputs": [],
   "source": [
    "from sklearn.datasets import load_diabetes\n",
    "X, y = load_diabetes(return_X_y=True, as_frame=True)"
   ]
  },
  {
   "cell_type": "code",
   "execution_count": 2,
   "metadata": {},
   "outputs": [
    {
     "data": {
      "text/html": [
       "<div>\n",
       "<style scoped>\n",
       "    .dataframe tbody tr th:only-of-type {\n",
       "        vertical-align: middle;\n",
       "    }\n",
       "\n",
       "    .dataframe tbody tr th {\n",
       "        vertical-align: top;\n",
       "    }\n",
       "\n",
       "    .dataframe thead th {\n",
       "        text-align: right;\n",
       "    }\n",
       "</style>\n",
       "<table border=\"1\" class=\"dataframe\">\n",
       "  <thead>\n",
       "    <tr style=\"text-align: right;\">\n",
       "      <th></th>\n",
       "      <th>age</th>\n",
       "      <th>sex</th>\n",
       "      <th>bmi</th>\n",
       "      <th>bp</th>\n",
       "      <th>s1</th>\n",
       "      <th>s2</th>\n",
       "      <th>s3</th>\n",
       "      <th>s4</th>\n",
       "      <th>s5</th>\n",
       "      <th>s6</th>\n",
       "    </tr>\n",
       "  </thead>\n",
       "  <tbody>\n",
       "    <tr>\n",
       "      <th>0</th>\n",
       "      <td>0.038076</td>\n",
       "      <td>0.050680</td>\n",
       "      <td>0.061696</td>\n",
       "      <td>0.021872</td>\n",
       "      <td>-0.044223</td>\n",
       "      <td>-0.034821</td>\n",
       "      <td>-0.043401</td>\n",
       "      <td>-0.002592</td>\n",
       "      <td>0.019908</td>\n",
       "      <td>-0.017646</td>\n",
       "    </tr>\n",
       "    <tr>\n",
       "      <th>1</th>\n",
       "      <td>-0.001882</td>\n",
       "      <td>-0.044642</td>\n",
       "      <td>-0.051474</td>\n",
       "      <td>-0.026328</td>\n",
       "      <td>-0.008449</td>\n",
       "      <td>-0.019163</td>\n",
       "      <td>0.074412</td>\n",
       "      <td>-0.039493</td>\n",
       "      <td>-0.068330</td>\n",
       "      <td>-0.092204</td>\n",
       "    </tr>\n",
       "    <tr>\n",
       "      <th>2</th>\n",
       "      <td>0.085299</td>\n",
       "      <td>0.050680</td>\n",
       "      <td>0.044451</td>\n",
       "      <td>-0.005671</td>\n",
       "      <td>-0.045599</td>\n",
       "      <td>-0.034194</td>\n",
       "      <td>-0.032356</td>\n",
       "      <td>-0.002592</td>\n",
       "      <td>0.002864</td>\n",
       "      <td>-0.025930</td>\n",
       "    </tr>\n",
       "    <tr>\n",
       "      <th>3</th>\n",
       "      <td>-0.089063</td>\n",
       "      <td>-0.044642</td>\n",
       "      <td>-0.011595</td>\n",
       "      <td>-0.036656</td>\n",
       "      <td>0.012191</td>\n",
       "      <td>0.024991</td>\n",
       "      <td>-0.036038</td>\n",
       "      <td>0.034309</td>\n",
       "      <td>0.022692</td>\n",
       "      <td>-0.009362</td>\n",
       "    </tr>\n",
       "    <tr>\n",
       "      <th>4</th>\n",
       "      <td>0.005383</td>\n",
       "      <td>-0.044642</td>\n",
       "      <td>-0.036385</td>\n",
       "      <td>0.021872</td>\n",
       "      <td>0.003935</td>\n",
       "      <td>0.015596</td>\n",
       "      <td>0.008142</td>\n",
       "      <td>-0.002592</td>\n",
       "      <td>-0.031991</td>\n",
       "      <td>-0.046641</td>\n",
       "    </tr>\n",
       "  </tbody>\n",
       "</table>\n",
       "</div>"
      ],
      "text/plain": [
       "        age       sex       bmi        bp        s1        s2        s3  \\\n",
       "0  0.038076  0.050680  0.061696  0.021872 -0.044223 -0.034821 -0.043401   \n",
       "1 -0.001882 -0.044642 -0.051474 -0.026328 -0.008449 -0.019163  0.074412   \n",
       "2  0.085299  0.050680  0.044451 -0.005671 -0.045599 -0.034194 -0.032356   \n",
       "3 -0.089063 -0.044642 -0.011595 -0.036656  0.012191  0.024991 -0.036038   \n",
       "4  0.005383 -0.044642 -0.036385  0.021872  0.003935  0.015596  0.008142   \n",
       "\n",
       "         s4        s5        s6  \n",
       "0 -0.002592  0.019908 -0.017646  \n",
       "1 -0.039493 -0.068330 -0.092204  \n",
       "2 -0.002592  0.002864 -0.025930  \n",
       "3  0.034309  0.022692 -0.009362  \n",
       "4 -0.002592 -0.031991 -0.046641  "
      ]
     },
     "execution_count": 2,
     "metadata": {},
     "output_type": "execute_result"
    }
   ],
   "source": [
    "X.head()"
   ]
  },
  {
   "cell_type": "code",
   "execution_count": 3,
   "metadata": {},
   "outputs": [
    {
     "data": {
      "text/plain": [
       "0    151.0\n",
       "1     75.0\n",
       "2    141.0\n",
       "3    206.0\n",
       "4    135.0\n",
       "Name: target, dtype: float64"
      ]
     },
     "execution_count": 3,
     "metadata": {},
     "output_type": "execute_result"
    }
   ],
   "source": [
    "y.head()"
   ]
  },
  {
   "cell_type": "code",
   "execution_count": 4,
   "metadata": {},
   "outputs": [
    {
     "data": {
      "text/html": [
       "<div>\n",
       "<style scoped>\n",
       "    .dataframe tbody tr th:only-of-type {\n",
       "        vertical-align: middle;\n",
       "    }\n",
       "\n",
       "    .dataframe tbody tr th {\n",
       "        vertical-align: top;\n",
       "    }\n",
       "\n",
       "    .dataframe thead th {\n",
       "        text-align: right;\n",
       "    }\n",
       "</style>\n",
       "<table border=\"1\" class=\"dataframe\">\n",
       "  <thead>\n",
       "    <tr style=\"text-align: right;\">\n",
       "      <th></th>\n",
       "      <th>age</th>\n",
       "      <th>sex</th>\n",
       "      <th>bmi</th>\n",
       "      <th>bp</th>\n",
       "      <th>s1</th>\n",
       "      <th>s2</th>\n",
       "      <th>s3</th>\n",
       "      <th>s4</th>\n",
       "      <th>s5</th>\n",
       "      <th>s6</th>\n",
       "    </tr>\n",
       "  </thead>\n",
       "  <tbody>\n",
       "    <tr>\n",
       "      <th>count</th>\n",
       "      <td>4.420000e+02</td>\n",
       "      <td>4.420000e+02</td>\n",
       "      <td>4.420000e+02</td>\n",
       "      <td>4.420000e+02</td>\n",
       "      <td>4.420000e+02</td>\n",
       "      <td>4.420000e+02</td>\n",
       "      <td>4.420000e+02</td>\n",
       "      <td>4.420000e+02</td>\n",
       "      <td>4.420000e+02</td>\n",
       "      <td>4.420000e+02</td>\n",
       "    </tr>\n",
       "    <tr>\n",
       "      <th>mean</th>\n",
       "      <td>-3.639623e-16</td>\n",
       "      <td>1.309912e-16</td>\n",
       "      <td>-8.013951e-16</td>\n",
       "      <td>1.289818e-16</td>\n",
       "      <td>-9.042540e-17</td>\n",
       "      <td>1.301121e-16</td>\n",
       "      <td>-4.563971e-16</td>\n",
       "      <td>3.863174e-16</td>\n",
       "      <td>-3.848103e-16</td>\n",
       "      <td>-3.398488e-16</td>\n",
       "    </tr>\n",
       "    <tr>\n",
       "      <th>std</th>\n",
       "      <td>4.761905e-02</td>\n",
       "      <td>4.761905e-02</td>\n",
       "      <td>4.761905e-02</td>\n",
       "      <td>4.761905e-02</td>\n",
       "      <td>4.761905e-02</td>\n",
       "      <td>4.761905e-02</td>\n",
       "      <td>4.761905e-02</td>\n",
       "      <td>4.761905e-02</td>\n",
       "      <td>4.761905e-02</td>\n",
       "      <td>4.761905e-02</td>\n",
       "    </tr>\n",
       "    <tr>\n",
       "      <th>min</th>\n",
       "      <td>-1.072256e-01</td>\n",
       "      <td>-4.464164e-02</td>\n",
       "      <td>-9.027530e-02</td>\n",
       "      <td>-1.123996e-01</td>\n",
       "      <td>-1.267807e-01</td>\n",
       "      <td>-1.156131e-01</td>\n",
       "      <td>-1.023071e-01</td>\n",
       "      <td>-7.639450e-02</td>\n",
       "      <td>-1.260974e-01</td>\n",
       "      <td>-1.377672e-01</td>\n",
       "    </tr>\n",
       "    <tr>\n",
       "      <th>25%</th>\n",
       "      <td>-3.729927e-02</td>\n",
       "      <td>-4.464164e-02</td>\n",
       "      <td>-3.422907e-02</td>\n",
       "      <td>-3.665645e-02</td>\n",
       "      <td>-3.424784e-02</td>\n",
       "      <td>-3.035840e-02</td>\n",
       "      <td>-3.511716e-02</td>\n",
       "      <td>-3.949338e-02</td>\n",
       "      <td>-3.324879e-02</td>\n",
       "      <td>-3.317903e-02</td>\n",
       "    </tr>\n",
       "    <tr>\n",
       "      <th>50%</th>\n",
       "      <td>5.383060e-03</td>\n",
       "      <td>-4.464164e-02</td>\n",
       "      <td>-7.283766e-03</td>\n",
       "      <td>-5.670611e-03</td>\n",
       "      <td>-4.320866e-03</td>\n",
       "      <td>-3.819065e-03</td>\n",
       "      <td>-6.584468e-03</td>\n",
       "      <td>-2.592262e-03</td>\n",
       "      <td>-1.947634e-03</td>\n",
       "      <td>-1.077698e-03</td>\n",
       "    </tr>\n",
       "    <tr>\n",
       "      <th>75%</th>\n",
       "      <td>3.807591e-02</td>\n",
       "      <td>5.068012e-02</td>\n",
       "      <td>3.124802e-02</td>\n",
       "      <td>3.564384e-02</td>\n",
       "      <td>2.835801e-02</td>\n",
       "      <td>2.984439e-02</td>\n",
       "      <td>2.931150e-02</td>\n",
       "      <td>3.430886e-02</td>\n",
       "      <td>3.243323e-02</td>\n",
       "      <td>2.791705e-02</td>\n",
       "    </tr>\n",
       "    <tr>\n",
       "      <th>max</th>\n",
       "      <td>1.107267e-01</td>\n",
       "      <td>5.068012e-02</td>\n",
       "      <td>1.705552e-01</td>\n",
       "      <td>1.320442e-01</td>\n",
       "      <td>1.539137e-01</td>\n",
       "      <td>1.987880e-01</td>\n",
       "      <td>1.811791e-01</td>\n",
       "      <td>1.852344e-01</td>\n",
       "      <td>1.335990e-01</td>\n",
       "      <td>1.356118e-01</td>\n",
       "    </tr>\n",
       "  </tbody>\n",
       "</table>\n",
       "</div>"
      ],
      "text/plain": [
       "                age           sex           bmi            bp            s1  \\\n",
       "count  4.420000e+02  4.420000e+02  4.420000e+02  4.420000e+02  4.420000e+02   \n",
       "mean  -3.639623e-16  1.309912e-16 -8.013951e-16  1.289818e-16 -9.042540e-17   \n",
       "std    4.761905e-02  4.761905e-02  4.761905e-02  4.761905e-02  4.761905e-02   \n",
       "min   -1.072256e-01 -4.464164e-02 -9.027530e-02 -1.123996e-01 -1.267807e-01   \n",
       "25%   -3.729927e-02 -4.464164e-02 -3.422907e-02 -3.665645e-02 -3.424784e-02   \n",
       "50%    5.383060e-03 -4.464164e-02 -7.283766e-03 -5.670611e-03 -4.320866e-03   \n",
       "75%    3.807591e-02  5.068012e-02  3.124802e-02  3.564384e-02  2.835801e-02   \n",
       "max    1.107267e-01  5.068012e-02  1.705552e-01  1.320442e-01  1.539137e-01   \n",
       "\n",
       "                 s2            s3            s4            s5            s6  \n",
       "count  4.420000e+02  4.420000e+02  4.420000e+02  4.420000e+02  4.420000e+02  \n",
       "mean   1.301121e-16 -4.563971e-16  3.863174e-16 -3.848103e-16 -3.398488e-16  \n",
       "std    4.761905e-02  4.761905e-02  4.761905e-02  4.761905e-02  4.761905e-02  \n",
       "min   -1.156131e-01 -1.023071e-01 -7.639450e-02 -1.260974e-01 -1.377672e-01  \n",
       "25%   -3.035840e-02 -3.511716e-02 -3.949338e-02 -3.324879e-02 -3.317903e-02  \n",
       "50%   -3.819065e-03 -6.584468e-03 -2.592262e-03 -1.947634e-03 -1.077698e-03  \n",
       "75%    2.984439e-02  2.931150e-02  3.430886e-02  3.243323e-02  2.791705e-02  \n",
       "max    1.987880e-01  1.811791e-01  1.852344e-01  1.335990e-01  1.356118e-01  "
      ]
     },
     "execution_count": 4,
     "metadata": {},
     "output_type": "execute_result"
    }
   ],
   "source": [
    "X.describe()"
   ]
  },
  {
   "attachments": {},
   "cell_type": "markdown",
   "metadata": {},
   "source": [
    "There are 442 samples. 10 features: age, sex, bmi, bp, s1, s2, s3, s4, s5, s6. Select only BMI as the feature"
   ]
  },
  {
   "cell_type": "code",
   "execution_count": 5,
   "metadata": {},
   "outputs": [
    {
     "data": {
      "text/html": [
       "<div>\n",
       "<style scoped>\n",
       "    .dataframe tbody tr th:only-of-type {\n",
       "        vertical-align: middle;\n",
       "    }\n",
       "\n",
       "    .dataframe tbody tr th {\n",
       "        vertical-align: top;\n",
       "    }\n",
       "\n",
       "    .dataframe thead th {\n",
       "        text-align: right;\n",
       "    }\n",
       "</style>\n",
       "<table border=\"1\" class=\"dataframe\">\n",
       "  <thead>\n",
       "    <tr style=\"text-align: right;\">\n",
       "      <th></th>\n",
       "      <th>bmi</th>\n",
       "    </tr>\n",
       "  </thead>\n",
       "  <tbody>\n",
       "    <tr>\n",
       "      <th>0</th>\n",
       "      <td>0.061696</td>\n",
       "    </tr>\n",
       "    <tr>\n",
       "      <th>1</th>\n",
       "      <td>-0.051474</td>\n",
       "    </tr>\n",
       "    <tr>\n",
       "      <th>2</th>\n",
       "      <td>0.044451</td>\n",
       "    </tr>\n",
       "    <tr>\n",
       "      <th>3</th>\n",
       "      <td>-0.011595</td>\n",
       "    </tr>\n",
       "    <tr>\n",
       "      <th>4</th>\n",
       "      <td>-0.036385</td>\n",
       "    </tr>\n",
       "  </tbody>\n",
       "</table>\n",
       "</div>"
      ],
      "text/plain": [
       "        bmi\n",
       "0  0.061696\n",
       "1 -0.051474\n",
       "2  0.044451\n",
       "3 -0.011595\n",
       "4 -0.036385"
      ]
     },
     "execution_count": 5,
     "metadata": {},
     "output_type": "execute_result"
    }
   ],
   "source": [
    "\n",
    "X = X[['bmi']]\n",
    "X.head()"
   ]
  },
  {
   "cell_type": "code",
   "execution_count": 6,
   "metadata": {},
   "outputs": [],
   "source": [
    "from sklearn.model_selection import train_test_split\n",
    "X_train, X_test, y_train, y_test = train_test_split(X, y, test_size = 0.2)"
   ]
  },
  {
   "cell_type": "code",
   "execution_count": 7,
   "metadata": {},
   "outputs": [
    {
     "name": "stdout",
     "output_type": "stream",
     "text": [
      "training size: 353, test size: 89\n"
     ]
    }
   ],
   "source": [
    "print(f\"training size: {X_train.shape[0]}, test size: {X_test.shape[0]}\")"
   ]
  },
  {
   "cell_type": "code",
   "execution_count": 8,
   "metadata": {},
   "outputs": [
    {
     "data": {
      "text/plain": [
       "Pipeline(steps=[('linearregression', LinearRegression())])"
      ]
     },
     "execution_count": 8,
     "metadata": {},
     "output_type": "execute_result"
    }
   ],
   "source": [
    "from sklearn.pipeline import make_pipeline\n",
    "from sklearn import linear_model\n",
    "pipe = make_pipeline(linear_model.LinearRegression())\n",
    "pipe.fit(X, y)"
   ]
  },
  {
   "attachments": {},
   "cell_type": "markdown",
   "metadata": {},
   "source": [
    "We use the mean square error to evaluate the model."
   ]
  },
  {
   "cell_type": "code",
   "execution_count": 9,
   "metadata": {},
   "outputs": [
    {
     "name": "stdout",
     "output_type": "stream",
     "text": [
      "training set MSE: 3898.0246168148155, test_set MSE: 3860.4395622275547\n"
     ]
    }
   ],
   "source": [
    "from sklearn.metrics import mean_squared_error\n",
    "mse_train = mean_squared_error(y_train, pipe.predict(X_train))\n",
    "mse_test = mean_squared_error(y_test, pipe.predict(X_test))\n",
    "print(f\"training set MSE: {mse_train}, test_set MSE: {mse_test}\")"
   ]
  },
  {
   "cell_type": "code",
   "execution_count": 10,
   "metadata": {},
   "outputs": [],
   "source": [
    "import matplotlib.pyplot as plt"
   ]
  },
  {
   "cell_type": "code",
   "execution_count": 11,
   "metadata": {},
   "outputs": [],
   "source": [
    "y_pred = pipe.predict(X_test)"
   ]
  },
  {
   "cell_type": "code",
   "execution_count": 12,
   "metadata": {},
   "outputs": [
    {
     "data": {
      "text/plain": [
       "Text(0, 0.5, 'diabetes progression')"
      ]
     },
     "execution_count": 12,
     "metadata": {},
     "output_type": "execute_result"
    },
    {
     "data": {
      "image/png": "[encoded data removed]",
      "text/plain": [
       "<Figure size 640x480 with 1 Axes>"
      ]
     },
     "metadata": {},
     "output_type": "display_data"
    }
   ],
   "source": [
    "\n",
    "fig = plt.figure()\n",
    "ax = fig.subplots(nrows=1, ncols=1)\n",
    "ax.scatter(X_test, y_test)\n",
    "ax.plot(X_test, y_pred, color='black')\n",
    "ax.set_xlabel('bmi')\n",
    "ax.set_ylabel('diabetes progression')"
   ]
  },
  {
   "attachments": {},
   "cell_type": "markdown",
   "metadata": {},
   "source": [
    "# 2 - Data\n",
    "## Tasks\n",
    "1. Load data\n",
    "2. Explore the data<br/>\n",
    "    2.1 How many features?<br/>\n",
    "    2.2 What are the data types for each feature?<br/>\n",
    "    2.3 Is there any missing data?<br/>\n",
    "    2.4 What questions can you ask with this data?<br/>\n",
    "3. Visualization<br/>\n",
    "    3.1 How do you visualize each feature"
   ]
  },
  {
   "cell_type": "code",
   "execution_count": 16,
   "metadata": {},
   "outputs": [],
   "source": [
    "import pandas as pd"
   ]
  },
  {
   "cell_type": "code",
   "execution_count": 19,
   "metadata": {},
   "outputs": [],
   "source": [
    "df = pd.read_csv(\"../data/US-pumpkins.csv\")"
   ]
  },
  {
   "cell_type": "code",
   "execution_count": 25,
   "metadata": {},
   "outputs": [
    {
     "data": {
      "text/html": [
       "<div>\n",
       "<style scoped>\n",
       "    .dataframe tbody tr th:only-of-type {\n",
       "        vertical-align: middle;\n",
       "    }\n",
       "\n",
       "    .dataframe tbody tr th {\n",
       "        vertical-align: top;\n",
       "    }\n",
       "\n",
       "    .dataframe thead th {\n",
       "        text-align: right;\n",
       "    }\n",
       "</style>\n",
       "<table border=\"1\" class=\"dataframe\">\n",
       "  <thead>\n",
       "    <tr style=\"text-align: right;\">\n",
       "      <th></th>\n",
       "      <th>City Name</th>\n",
       "      <th>Type</th>\n",
       "      <th>Package</th>\n",
       "      <th>Variety</th>\n",
       "      <th>Sub Variety</th>\n",
       "      <th>Grade</th>\n",
       "      <th>Date</th>\n",
       "      <th>Low Price</th>\n",
       "      <th>High Price</th>\n",
       "      <th>Mostly Low</th>\n",
       "      <th>...</th>\n",
       "      <th>Unit of Sale</th>\n",
       "      <th>Quality</th>\n",
       "      <th>Condition</th>\n",
       "      <th>Appearance</th>\n",
       "      <th>Storage</th>\n",
       "      <th>Crop</th>\n",
       "      <th>Repack</th>\n",
       "      <th>Trans Mode</th>\n",
       "      <th>Unnamed: 24</th>\n",
       "      <th>Unnamed: 25</th>\n",
       "    </tr>\n",
       "  </thead>\n",
       "  <tbody>\n",
       "    <tr>\n",
       "      <th>count</th>\n",
       "      <td>1757</td>\n",
       "      <td>45</td>\n",
       "      <td>1757</td>\n",
       "      <td>1752</td>\n",
       "      <td>296</td>\n",
       "      <td>0.0</td>\n",
       "      <td>1757</td>\n",
       "      <td>1757.000000</td>\n",
       "      <td>1757.000000</td>\n",
       "      <td>1654.000000</td>\n",
       "      <td>...</td>\n",
       "      <td>162</td>\n",
       "      <td>0.0</td>\n",
       "      <td>0.0</td>\n",
       "      <td>0.0</td>\n",
       "      <td>0.0</td>\n",
       "      <td>0.0</td>\n",
       "      <td>1757</td>\n",
       "      <td>0.0</td>\n",
       "      <td>0.0</td>\n",
       "      <td>103</td>\n",
       "    </tr>\n",
       "    <tr>\n",
       "      <th>unique</th>\n",
       "      <td>13</td>\n",
       "      <td>1</td>\n",
       "      <td>15</td>\n",
       "      <td>10</td>\n",
       "      <td>2</td>\n",
       "      <td>NaN</td>\n",
       "      <td>57</td>\n",
       "      <td>NaN</td>\n",
       "      <td>NaN</td>\n",
       "      <td>NaN</td>\n",
       "      <td>...</td>\n",
       "      <td>4</td>\n",
       "      <td>NaN</td>\n",
       "      <td>NaN</td>\n",
       "      <td>NaN</td>\n",
       "      <td>NaN</td>\n",
       "      <td>NaN</td>\n",
       "      <td>2</td>\n",
       "      <td>NaN</td>\n",
       "      <td>NaN</td>\n",
       "      <td>4</td>\n",
       "    </tr>\n",
       "    <tr>\n",
       "      <th>top</th>\n",
       "      <td>BOSTON</td>\n",
       "      <td>Organic</td>\n",
       "      <td>36 inch bins</td>\n",
       "      <td>HOWDEN TYPE</td>\n",
       "      <td>FLAT TYPE</td>\n",
       "      <td>NaN</td>\n",
       "      <td>10/8/16</td>\n",
       "      <td>NaN</td>\n",
       "      <td>NaN</td>\n",
       "      <td>NaN</td>\n",
       "      <td>...</td>\n",
       "      <td>PER BIN</td>\n",
       "      <td>NaN</td>\n",
       "      <td>NaN</td>\n",
       "      <td>NaN</td>\n",
       "      <td>NaN</td>\n",
       "      <td>NaN</td>\n",
       "      <td>N</td>\n",
       "      <td>NaN</td>\n",
       "      <td>NaN</td>\n",
       "      <td>LOWER.</td>\n",
       "    </tr>\n",
       "    <tr>\n",
       "      <th>freq</th>\n",
       "      <td>352</td>\n",
       "      <td>45</td>\n",
       "      <td>663</td>\n",
       "      <td>542</td>\n",
       "      <td>212</td>\n",
       "      <td>NaN</td>\n",
       "      <td>180</td>\n",
       "      <td>NaN</td>\n",
       "      <td>NaN</td>\n",
       "      <td>NaN</td>\n",
       "      <td>...</td>\n",
       "      <td>98</td>\n",
       "      <td>NaN</td>\n",
       "      <td>NaN</td>\n",
       "      <td>NaN</td>\n",
       "      <td>NaN</td>\n",
       "      <td>NaN</td>\n",
       "      <td>1752</td>\n",
       "      <td>NaN</td>\n",
       "      <td>NaN</td>\n",
       "      <td>41</td>\n",
       "    </tr>\n",
       "    <tr>\n",
       "      <th>mean</th>\n",
       "      <td>NaN</td>\n",
       "      <td>NaN</td>\n",
       "      <td>NaN</td>\n",
       "      <td>NaN</td>\n",
       "      <td>NaN</td>\n",
       "      <td>NaN</td>\n",
       "      <td>NaN</td>\n",
       "      <td>124.571338</td>\n",
       "      <td>132.970939</td>\n",
       "      <td>128.170550</td>\n",
       "      <td>...</td>\n",
       "      <td>NaN</td>\n",
       "      <td>NaN</td>\n",
       "      <td>NaN</td>\n",
       "      <td>NaN</td>\n",
       "      <td>NaN</td>\n",
       "      <td>NaN</td>\n",
       "      <td>NaN</td>\n",
       "      <td>NaN</td>\n",
       "      <td>NaN</td>\n",
       "      <td>NaN</td>\n",
       "    </tr>\n",
       "    <tr>\n",
       "      <th>std</th>\n",
       "      <td>NaN</td>\n",
       "      <td>NaN</td>\n",
       "      <td>NaN</td>\n",
       "      <td>NaN</td>\n",
       "      <td>NaN</td>\n",
       "      <td>NaN</td>\n",
       "      <td>NaN</td>\n",
       "      <td>83.876591</td>\n",
       "      <td>89.524958</td>\n",
       "      <td>86.512161</td>\n",
       "      <td>...</td>\n",
       "      <td>NaN</td>\n",
       "      <td>NaN</td>\n",
       "      <td>NaN</td>\n",
       "      <td>NaN</td>\n",
       "      <td>NaN</td>\n",
       "      <td>NaN</td>\n",
       "      <td>NaN</td>\n",
       "      <td>NaN</td>\n",
       "      <td>NaN</td>\n",
       "      <td>NaN</td>\n",
       "    </tr>\n",
       "    <tr>\n",
       "      <th>min</th>\n",
       "      <td>NaN</td>\n",
       "      <td>NaN</td>\n",
       "      <td>NaN</td>\n",
       "      <td>NaN</td>\n",
       "      <td>NaN</td>\n",
       "      <td>NaN</td>\n",
       "      <td>NaN</td>\n",
       "      <td>0.240000</td>\n",
       "      <td>0.240000</td>\n",
       "      <td>0.240000</td>\n",
       "      <td>...</td>\n",
       "      <td>NaN</td>\n",
       "      <td>NaN</td>\n",
       "      <td>NaN</td>\n",
       "      <td>NaN</td>\n",
       "      <td>NaN</td>\n",
       "      <td>NaN</td>\n",
       "      <td>NaN</td>\n",
       "      <td>NaN</td>\n",
       "      <td>NaN</td>\n",
       "      <td>NaN</td>\n",
       "    </tr>\n",
       "    <tr>\n",
       "      <th>25%</th>\n",
       "      <td>NaN</td>\n",
       "      <td>NaN</td>\n",
       "      <td>NaN</td>\n",
       "      <td>NaN</td>\n",
       "      <td>NaN</td>\n",
       "      <td>NaN</td>\n",
       "      <td>NaN</td>\n",
       "      <td>24.000000</td>\n",
       "      <td>24.500000</td>\n",
       "      <td>24.625000</td>\n",
       "      <td>...</td>\n",
       "      <td>NaN</td>\n",
       "      <td>NaN</td>\n",
       "      <td>NaN</td>\n",
       "      <td>NaN</td>\n",
       "      <td>NaN</td>\n",
       "      <td>NaN</td>\n",
       "      <td>NaN</td>\n",
       "      <td>NaN</td>\n",
       "      <td>NaN</td>\n",
       "      <td>NaN</td>\n",
       "    </tr>\n",
       "    <tr>\n",
       "      <th>50%</th>\n",
       "      <td>NaN</td>\n",
       "      <td>NaN</td>\n",
       "      <td>NaN</td>\n",
       "      <td>NaN</td>\n",
       "      <td>NaN</td>\n",
       "      <td>NaN</td>\n",
       "      <td>NaN</td>\n",
       "      <td>140.000000</td>\n",
       "      <td>150.000000</td>\n",
       "      <td>147.000000</td>\n",
       "      <td>...</td>\n",
       "      <td>NaN</td>\n",
       "      <td>NaN</td>\n",
       "      <td>NaN</td>\n",
       "      <td>NaN</td>\n",
       "      <td>NaN</td>\n",
       "      <td>NaN</td>\n",
       "      <td>NaN</td>\n",
       "      <td>NaN</td>\n",
       "      <td>NaN</td>\n",
       "      <td>NaN</td>\n",
       "    </tr>\n",
       "    <tr>\n",
       "      <th>75%</th>\n",
       "      <td>NaN</td>\n",
       "      <td>NaN</td>\n",
       "      <td>NaN</td>\n",
       "      <td>NaN</td>\n",
       "      <td>NaN</td>\n",
       "      <td>NaN</td>\n",
       "      <td>NaN</td>\n",
       "      <td>180.000000</td>\n",
       "      <td>200.000000</td>\n",
       "      <td>185.000000</td>\n",
       "      <td>...</td>\n",
       "      <td>NaN</td>\n",
       "      <td>NaN</td>\n",
       "      <td>NaN</td>\n",
       "      <td>NaN</td>\n",
       "      <td>NaN</td>\n",
       "      <td>NaN</td>\n",
       "      <td>NaN</td>\n",
       "      <td>NaN</td>\n",
       "      <td>NaN</td>\n",
       "      <td>NaN</td>\n",
       "    </tr>\n",
       "    <tr>\n",
       "      <th>max</th>\n",
       "      <td>NaN</td>\n",
       "      <td>NaN</td>\n",
       "      <td>NaN</td>\n",
       "      <td>NaN</td>\n",
       "      <td>NaN</td>\n",
       "      <td>NaN</td>\n",
       "      <td>NaN</td>\n",
       "      <td>480.000000</td>\n",
       "      <td>480.000000</td>\n",
       "      <td>480.000000</td>\n",
       "      <td>...</td>\n",
       "      <td>NaN</td>\n",
       "      <td>NaN</td>\n",
       "      <td>NaN</td>\n",
       "      <td>NaN</td>\n",
       "      <td>NaN</td>\n",
       "      <td>NaN</td>\n",
       "      <td>NaN</td>\n",
       "      <td>NaN</td>\n",
       "      <td>NaN</td>\n",
       "      <td>NaN</td>\n",
       "    </tr>\n",
       "  </tbody>\n",
       "</table>\n",
       "<p>11 rows × 26 columns</p>\n",
       "</div>"
      ],
      "text/plain": [
       "       City Name     Type       Package      Variety Sub Variety  Grade  \\\n",
       "count       1757       45          1757         1752         296    0.0   \n",
       "unique        13        1            15           10           2    NaN   \n",
       "top       BOSTON  Organic  36 inch bins  HOWDEN TYPE   FLAT TYPE    NaN   \n",
       "freq         352       45           663          542         212    NaN   \n",
       "mean         NaN      NaN           NaN          NaN         NaN    NaN   \n",
       "std          NaN      NaN           NaN          NaN         NaN    NaN   \n",
       "min          NaN      NaN           NaN          NaN         NaN    NaN   \n",
       "25%          NaN      NaN           NaN          NaN         NaN    NaN   \n",
       "50%          NaN      NaN           NaN          NaN         NaN    NaN   \n",
       "75%          NaN      NaN           NaN          NaN         NaN    NaN   \n",
       "max          NaN      NaN           NaN          NaN         NaN    NaN   \n",
       "\n",
       "           Date    Low Price   High Price   Mostly Low  ...  Unit of Sale  \\\n",
       "count      1757  1757.000000  1757.000000  1654.000000  ...           162   \n",
       "unique       57          NaN          NaN          NaN  ...             4   \n",
       "top     10/8/16          NaN          NaN          NaN  ...       PER BIN   \n",
       "freq        180          NaN          NaN          NaN  ...            98   \n",
       "mean        NaN   124.571338   132.970939   128.170550  ...           NaN   \n",
       "std         NaN    83.876591    89.524958    86.512161  ...           NaN   \n",
       "min         NaN     0.240000     0.240000     0.240000  ...           NaN   \n",
       "25%         NaN    24.000000    24.500000    24.625000  ...           NaN   \n",
       "50%         NaN   140.000000   150.000000   147.000000  ...           NaN   \n",
       "75%         NaN   180.000000   200.000000   185.000000  ...           NaN   \n",
       "max         NaN   480.000000   480.000000   480.000000  ...           NaN   \n",
       "\n",
       "       Quality Condition Appearance Storage  Crop Repack  Trans Mode  \\\n",
       "count      0.0       0.0        0.0     0.0   0.0   1757         0.0   \n",
       "unique     NaN       NaN        NaN     NaN   NaN      2         NaN   \n",
       "top        NaN       NaN        NaN     NaN   NaN      N         NaN   \n",
       "freq       NaN       NaN        NaN     NaN   NaN   1752         NaN   \n",
       "mean       NaN       NaN        NaN     NaN   NaN    NaN         NaN   \n",
       "std        NaN       NaN        NaN     NaN   NaN    NaN         NaN   \n",
       "min        NaN       NaN        NaN     NaN   NaN    NaN         NaN   \n",
       "25%        NaN       NaN        NaN     NaN   NaN    NaN         NaN   \n",
       "50%        NaN       NaN        NaN     NaN   NaN    NaN         NaN   \n",
       "75%        NaN       NaN        NaN     NaN   NaN    NaN         NaN   \n",
       "max        NaN       NaN        NaN     NaN   NaN    NaN         NaN   \n",
       "\n",
       "        Unnamed: 24  Unnamed: 25  \n",
       "count           0.0          103  \n",
       "unique          NaN            4  \n",
       "top             NaN       LOWER.  \n",
       "freq            NaN           41  \n",
       "mean            NaN          NaN  \n",
       "std             NaN          NaN  \n",
       "min             NaN          NaN  \n",
       "25%             NaN          NaN  \n",
       "50%             NaN          NaN  \n",
       "75%             NaN          NaN  \n",
       "max             NaN          NaN  \n",
       "\n",
       "[11 rows x 26 columns]"
      ]
     },
     "execution_count": 25,
     "metadata": {},
     "output_type": "execute_result"
    }
   ],
   "source": [
    "df.describe(include=['object', 'number'])"
   ]
  },
  {
   "attachments": {},
   "cell_type": "markdown",
   "metadata": {},
   "source": [
    "## 2.1 How many features\n",
    "Features\\\n",
    "'City Name': String. 13 values\\\n",
    "'Type': String,  1 unique value\\\n",
    "'Package': String, 15 unique values\\\n",
    "'Variety':String, 10 unique values\\\n",
    "'Sub Variety': String, 2 unique values\\\n",
    "'Grade':  Number. \\\n",
    "'Date': date. 57 unique values\\\n",
    "'Low Price': Number. mean 124.57. Range: [0.24, 480]\\\n",
    "'High Price': Number. mean 132.97. Range: [0.24, 480]\\\n",
    "'Mostly Low': Number. mean 128.17, Range: [0.24, 480]\\\n",
    "'Mostly High': Number, mean 132.49, Range: [0.24, 480]\\\n",
    "'Origin': String, 24 unique values. State \\\n",
    "'Origin District': String, 5 unique values. What is the difference b/w Origin and Origin District?\\\n",
    "'Item Size': String, 7 unique values\\\n",
    "'Color':String 3 unique values\\\n",
    "'Environment': **Missing, All NA** \\\n",
    "'Unit of Sale': String, 4 unique values\\\n",
    " 'Quality':  ??\\\n",
    " 'Condition': ?? \\\n",
    " 'Appearance': ??\\\n",
    " 'Storage': ?? \\\n",
    " 'Crop': ??    \\\n",
    "'Repack': String. Y or N \\\n",
    "'Trans Mode': ??\\\n",
    "'Unnamed: 24': ??\\\n",
    "'Unnamed: 25': String"
   ]
  },
  {
   "cell_type": "code",
   "execution_count": 34,
   "metadata": {},
   "outputs": [
    {
     "data": {
      "text/html": [
       "<div>\n",
       "<style scoped>\n",
       "    .dataframe tbody tr th:only-of-type {\n",
       "        vertical-align: middle;\n",
       "    }\n",
       "\n",
       "    .dataframe tbody tr th {\n",
       "        vertical-align: top;\n",
       "    }\n",
       "\n",
       "    .dataframe thead th {\n",
       "        text-align: right;\n",
       "    }\n",
       "</style>\n",
       "<table border=\"1\" class=\"dataframe\">\n",
       "  <thead>\n",
       "    <tr style=\"text-align: right;\">\n",
       "      <th></th>\n",
       "      <th>Origin District</th>\n",
       "      <th>Item Size</th>\n",
       "      <th>Environment</th>\n",
       "      <th>Color</th>\n",
       "      <th>Unit of Sale</th>\n",
       "    </tr>\n",
       "  </thead>\n",
       "  <tbody>\n",
       "    <tr>\n",
       "      <th>count</th>\n",
       "      <td>131</td>\n",
       "      <td>1478</td>\n",
       "      <td>0.0</td>\n",
       "      <td>1141</td>\n",
       "      <td>162</td>\n",
       "    </tr>\n",
       "    <tr>\n",
       "      <th>unique</th>\n",
       "      <td>5</td>\n",
       "      <td>7</td>\n",
       "      <td>NaN</td>\n",
       "      <td>3</td>\n",
       "      <td>4</td>\n",
       "    </tr>\n",
       "    <tr>\n",
       "      <th>top</th>\n",
       "      <td>QUEBEC</td>\n",
       "      <td>sml</td>\n",
       "      <td>NaN</td>\n",
       "      <td>ORANGE</td>\n",
       "      <td>PER BIN</td>\n",
       "    </tr>\n",
       "    <tr>\n",
       "      <th>freq</th>\n",
       "      <td>48</td>\n",
       "      <td>363</td>\n",
       "      <td>NaN</td>\n",
       "      <td>916</td>\n",
       "      <td>98</td>\n",
       "    </tr>\n",
       "    <tr>\n",
       "      <th>mean</th>\n",
       "      <td>NaN</td>\n",
       "      <td>NaN</td>\n",
       "      <td>NaN</td>\n",
       "      <td>NaN</td>\n",
       "      <td>NaN</td>\n",
       "    </tr>\n",
       "    <tr>\n",
       "      <th>std</th>\n",
       "      <td>NaN</td>\n",
       "      <td>NaN</td>\n",
       "      <td>NaN</td>\n",
       "      <td>NaN</td>\n",
       "      <td>NaN</td>\n",
       "    </tr>\n",
       "    <tr>\n",
       "      <th>min</th>\n",
       "      <td>NaN</td>\n",
       "      <td>NaN</td>\n",
       "      <td>NaN</td>\n",
       "      <td>NaN</td>\n",
       "      <td>NaN</td>\n",
       "    </tr>\n",
       "    <tr>\n",
       "      <th>25%</th>\n",
       "      <td>NaN</td>\n",
       "      <td>NaN</td>\n",
       "      <td>NaN</td>\n",
       "      <td>NaN</td>\n",
       "      <td>NaN</td>\n",
       "    </tr>\n",
       "    <tr>\n",
       "      <th>50%</th>\n",
       "      <td>NaN</td>\n",
       "      <td>NaN</td>\n",
       "      <td>NaN</td>\n",
       "      <td>NaN</td>\n",
       "      <td>NaN</td>\n",
       "    </tr>\n",
       "    <tr>\n",
       "      <th>75%</th>\n",
       "      <td>NaN</td>\n",
       "      <td>NaN</td>\n",
       "      <td>NaN</td>\n",
       "      <td>NaN</td>\n",
       "      <td>NaN</td>\n",
       "    </tr>\n",
       "    <tr>\n",
       "      <th>max</th>\n",
       "      <td>NaN</td>\n",
       "      <td>NaN</td>\n",
       "      <td>NaN</td>\n",
       "      <td>NaN</td>\n",
       "      <td>NaN</td>\n",
       "    </tr>\n",
       "  </tbody>\n",
       "</table>\n",
       "</div>"
      ],
      "text/plain": [
       "       Origin District Item Size  Environment   Color Unit of Sale\n",
       "count              131      1478          0.0    1141          162\n",
       "unique               5         7          NaN       3            4\n",
       "top             QUEBEC       sml          NaN  ORANGE      PER BIN\n",
       "freq                48       363          NaN     916           98\n",
       "mean               NaN       NaN          NaN     NaN          NaN\n",
       "std                NaN       NaN          NaN     NaN          NaN\n",
       "min                NaN       NaN          NaN     NaN          NaN\n",
       "25%                NaN       NaN          NaN     NaN          NaN\n",
       "50%                NaN       NaN          NaN     NaN          NaN\n",
       "75%                NaN       NaN          NaN     NaN          NaN\n",
       "max                NaN       NaN          NaN     NaN          NaN"
      ]
     },
     "execution_count": 34,
     "metadata": {},
     "output_type": "execute_result"
    }
   ],
   "source": [
    "df[[\"Origin District\", \"Item Size\", \"Environment\", \"Color\", \"Unit of Sale\"]].describe(include=[\"object\", \"number\"])"
   ]
  },
  {
   "cell_type": "code",
   "execution_count": 75,
   "metadata": {},
   "outputs": [
    {
     "data": {
      "text/plain": [
       "City Name          0.000000\n",
       "Type               0.974388\n",
       "Package            0.000000\n",
       "Variety            0.002846\n",
       "Sub Variety        0.831531\n",
       "Date               0.000000\n",
       "Low Price          0.000000\n",
       "High Price         0.000000\n",
       "Mostly Low         0.058623\n",
       "Mostly High        0.058623\n",
       "Origin             0.001707\n",
       "Origin District    0.925441\n",
       "Item Size          0.158793\n",
       "Color              0.350598\n",
       "Unit of Sale       0.907797\n",
       "Repack             0.000000\n",
       "Unnamed: 25        0.941377\n",
       "dtype: float64"
      ]
     },
     "execution_count": 75,
     "metadata": {},
     "output_type": "execute_result"
    }
   ],
   "source": [
    "pd.isna(df).sum() / df.shape[0]\n",
    "# alternative df.isnull().sum() / df.shape[0]"
   ]
  },
  {
   "attachments": {},
   "cell_type": "markdown",
   "metadata": {},
   "source": [
    "Grade, Environment, Quality, Condition, Appearance, Storage, Crop, Trans Mode, Unnamed: 24 are all missing\n",
    "Let's clean up the data by removing these columns"
   ]
  },
  {
   "cell_type": "code",
   "execution_count": 52,
   "metadata": {},
   "outputs": [],
   "source": [
    "selected_columns  = [item for item, value in (pd.isna(df).sum() / df.shape[0] == 1).items() if value == False]"
   ]
  },
  {
   "cell_type": "code",
   "execution_count": 56,
   "metadata": {},
   "outputs": [],
   "source": [
    "df = df[selected_columns]"
   ]
  },
  {
   "attachments": {},
   "cell_type": "markdown",
   "metadata": {},
   "source": [
    "## Print out the unique values of each string features"
   ]
  },
  {
   "cell_type": "code",
   "execution_count": 70,
   "metadata": {},
   "outputs": [
    {
     "name": "stdout",
     "output_type": "stream",
     "text": [
      "City Name: na_count: 0, percentage: 0.0, values: ['BALTIMORE' 'ATLANTA' 'BOSTON' 'CHICAGO' 'COLUMBIA' 'LOS ANGELES'\n",
      " 'NEW YORK' 'DETROIT' 'DALLAS' 'MIAMI' 'SAN FRANCISCO' 'PHILADELPHIA'\n",
      " 'ST. LOUIS']\n",
      "Type: na_count: 1712, percentage: 0.9743881616391576, values: [nan 'Organic']\n",
      "Package: na_count: 0, percentage: 0.0, values: ['24 inch bins' '36 inch bins' '50 lb sacks' '1 1/9 bushel cartons'\n",
      " '1/2 bushel cartons' '1 1/9 bushel crates' 'bushel cartons' 'bins'\n",
      " '35 lb cartons' 'each' '20 lb cartons' '50 lb cartons' '40 lb cartons'\n",
      " 'bushel baskets' '22 lb cartons']\n",
      "Variety: na_count: 5, percentage: 0.0028457598178713715, values: [nan 'HOWDEN TYPE' 'HOWDEN WHITE TYPE' 'CINDERELLA' 'FAIRYTALE' 'PIE TYPE'\n",
      " 'BIG MACK TYPE' 'MIXED HEIRLOOM VARIETIES' 'MINIATURE' 'BLUE TYPE'\n",
      " 'KNUCKLE HEAD']\n",
      "Sub Variety: na_count: 1461, percentage: 0.8315310187820149, values: [nan 'FLAT TYPE' 'ROUND TYPE']\n",
      "Origin: na_count: 3, percentage: 0.001707455890722823, values: ['MARYLAND' 'DELAWARE' 'VIRGINIA' 'PENNSYLVANIA' nan 'MEXICO' 'COSTA RICA'\n",
      " 'FLORIDA' 'OHIO' 'MICHIGAN' 'ALABAMA' 'CANADA' 'TENNESSEE'\n",
      " 'NORTH CAROLINA' 'MASSACHUSETTS' 'VERMONT' 'NEW YORK' 'ILLINOIS'\n",
      " 'INDIANA' 'CALIFORNIA' 'NEW JERSEY' 'TEXAS' 'MISSOURI' 'NEW MEXICO'\n",
      " 'WASHINGTON']\n",
      "Origin District: na_count: 1626, percentage: 0.9254410927717701, values: [nan 'QUEBEC' 'ONTARIO' 'CENTRAL SAN JOAQUIN VALLEY CALIFORNIA'\n",
      " 'ORANGE COUNTY NEW YORK' 'WESTERN SECTION']\n",
      "Item Size: na_count: 279, percentage: 0.15879339783722254, values: ['lge' 'med' 'sml' 'xlge' 'med-lge' 'jbo' nan 'exjbo']\n",
      "Color: na_count: 616, percentage: 0.350597609561753, values: [nan 'ORANGE' 'WHITE' 'STRIPED']\n",
      "Unnamed: 25: na_count: 1654, percentage: 0.9413773477518498, values: [nan 'LOWER.' 'STEADY.' 'ABOUT STEADY.' 'MINIATURE LOWER, OTHERS STEADY.']\n",
      "Repack: na_count: 0, percentage: 0.0, values: ['E' 'N']\n",
      "Unit of Sale: na_count: 1595, percentage: 0.9077973819009676, values: [nan 'EACH' 'PER BIN' 'PER LB' 'SHELLACKED']\n"
     ]
    }
   ],
   "source": [
    "string_columns = [\"City Name\", \"Type\", \"Package\", \"Variety\", \"Sub Variety\", \"Origin\", \"Origin District\", \"Item Size\", \"Color\", \"Unnamed: 25\", \"Repack\", \"Unit of Sale\"]\n",
    "total_size = df.shape[0]\n",
    "for col in string_columns:\n",
    "    values = df[col].unique()\n",
    "    na_count = pd.isna(df[col]).sum()\n",
    "    print(f\"{col}: na_count: {na_count}, percentage: {na_count / total_size}, values: {values}\")"
   ]
  },
  {
   "attachments": {},
   "cell_type": "markdown",
   "metadata": {},
   "source": [
    "City, Type, Variety, Item Size, Color, Repack are categorical.\\\n",
    "The missing Origin can probably be inferred from City.\n"
   ]
  },
  {
   "cell_type": "code",
   "execution_count": 71,
   "metadata": {},
   "outputs": [
    {
     "name": "stdout",
     "output_type": "stream",
     "text": [
      "['Date', 'Low Price', 'High Price', 'Mostly Low', 'Mostly High']\n",
      "Date: na_count: 0, percentage: 0.0, range: [1/14/17 - 9/9/17]\n",
      "Low Price: na_count: 0, percentage: 0.0, range: [0.24 - 480.0]\n",
      "High Price: na_count: 0, percentage: 0.0, range: [0.24 - 480.0]\n",
      "Mostly Low: na_count: 103, percentage: 0.058622652248150255, range: [0.24 - 480.0]\n",
      "Mostly High: na_count: 103, percentage: 0.058622652248150255, range: [0.24 - 480.0]\n"
     ]
    }
   ],
   "source": [
    "numeric_columns = [c for c in df.columns if c not in string_columns]\n",
    "print(numeric_columns)\n",
    "for col in numeric_columns:\n",
    "    na_count = pd.isna(df[col]).sum()\n",
    "    print(f\"{col}: na_count: {na_count}, percentage: {na_count / total_size}, range: [{df[col].min()} - {df[col].max()}]\")"
   ]
  },
  {
   "cell_type": "code",
   "execution_count": 73,
   "metadata": {},
   "outputs": [
    {
     "data": {
      "text/plain": [
       "817"
      ]
     },
     "execution_count": 73,
     "metadata": {},
     "output_type": "execute_result"
    }
   ],
   "source": [
    "(df[\"Low Price\"] != df[\"High Price\"]).sum()"
   ]
  },
  {
   "attachments": {},
   "cell_type": "markdown",
   "metadata": {},
   "source": [
    "### Process Date\n",
    "1. Convert it datetime.\n",
    "2. Get the range of it"
   ]
  },
  {
   "cell_type": "code",
   "execution_count": 85,
   "metadata": {},
   "outputs": [
    {
     "name": "stdout",
     "output_type": "stream",
     "text": [
      "Date: range: [2014-11-29 00:00:00 - 2017-09-30 00:00:00], na_count: 0\n"
     ]
    }
   ],
   "source": [
    "df.Date = pd.to_datetime(df.Date)\n",
    "print(f\"Date: range: [{df.Date.min()} - {df.Date.max()}], na_count: {df.Date.isnull().sum()}\")"
   ]
  },
  {
   "attachments": {},
   "cell_type": "markdown",
   "metadata": {},
   "source": [
    "## Questions about the price\n",
    "\n",
    "Package columns and unit of sales incdicate that pumpkins are sold in different package and unit. What is the price in this case?\n",
    "1. Let's first create a Price column which is the average of High and Low.\n",
    "2. Get the median and average price of each package"
   ]
  },
  {
   "cell_type": "code",
   "execution_count": 86,
   "metadata": {},
   "outputs": [],
   "source": [
    "df[\"Price\"] = (df[\"Low Price\"] + df[\"High Price\"]) / 2"
   ]
  },
  {
   "cell_type": "code",
   "execution_count": 93,
   "metadata": {},
   "outputs": [
    {
     "data": {
      "text/html": [
       "<div>\n",
       "<style scoped>\n",
       "    .dataframe tbody tr th:only-of-type {\n",
       "        vertical-align: middle;\n",
       "    }\n",
       "\n",
       "    .dataframe tbody tr th {\n",
       "        vertical-align: top;\n",
       "    }\n",
       "\n",
       "    .dataframe thead th {\n",
       "        text-align: right;\n",
       "    }\n",
       "</style>\n",
       "<table border=\"1\" class=\"dataframe\">\n",
       "  <thead>\n",
       "    <tr style=\"text-align: right;\">\n",
       "      <th></th>\n",
       "      <th>Low Price</th>\n",
       "      <th>High Price</th>\n",
       "      <th>Mostly Low</th>\n",
       "      <th>Mostly High</th>\n",
       "      <th>Price</th>\n",
       "    </tr>\n",
       "    <tr>\n",
       "      <th>Package</th>\n",
       "      <th></th>\n",
       "      <th></th>\n",
       "      <th></th>\n",
       "      <th></th>\n",
       "      <th></th>\n",
       "    </tr>\n",
       "  </thead>\n",
       "  <tbody>\n",
       "    <tr>\n",
       "      <th>1/2 bushel cartons</th>\n",
       "      <td>16.000000</td>\n",
       "      <td>17.545455</td>\n",
       "      <td>16.000000</td>\n",
       "      <td>17.545455</td>\n",
       "      <td>16.772727</td>\n",
       "    </tr>\n",
       "    <tr>\n",
       "      <th>24 inch bins</th>\n",
       "      <td>68.905965</td>\n",
       "      <td>78.993684</td>\n",
       "      <td>68.905965</td>\n",
       "      <td>78.993684</td>\n",
       "      <td>73.949825</td>\n",
       "    </tr>\n",
       "    <tr>\n",
       "      <th>36 inch bins</th>\n",
       "      <td>171.610843</td>\n",
       "      <td>189.747590</td>\n",
       "      <td>178.177108</td>\n",
       "      <td>188.241566</td>\n",
       "      <td>180.679217</td>\n",
       "    </tr>\n",
       "    <tr>\n",
       "      <th>bins</th>\n",
       "      <td>125.000000</td>\n",
       "      <td>150.000000</td>\n",
       "      <td>125.000000</td>\n",
       "      <td>150.000000</td>\n",
       "      <td>137.500000</td>\n",
       "    </tr>\n",
       "    <tr>\n",
       "      <th>each</th>\n",
       "      <td>125.275000</td>\n",
       "      <td>125.275000</td>\n",
       "      <td>125.275000</td>\n",
       "      <td>125.275000</td>\n",
       "      <td>125.275000</td>\n",
       "    </tr>\n",
       "  </tbody>\n",
       "</table>\n",
       "</div>"
      ],
      "text/plain": [
       "                     Low Price  High Price  Mostly Low  Mostly High  \\\n",
       "Package                                                               \n",
       "1/2 bushel cartons   16.000000   17.545455   16.000000    17.545455   \n",
       "24 inch bins         68.905965   78.993684   68.905965    78.993684   \n",
       "36 inch bins        171.610843  189.747590  178.177108   188.241566   \n",
       "bins                125.000000  150.000000  125.000000   150.000000   \n",
       "each                125.275000  125.275000  125.275000   125.275000   \n",
       "\n",
       "                         Price  \n",
       "Package                         \n",
       "1/2 bushel cartons   16.772727  \n",
       "24 inch bins         73.949825  \n",
       "36 inch bins        180.679217  \n",
       "bins                137.500000  \n",
       "each                125.275000  "
      ]
     },
     "execution_count": 93,
     "metadata": {},
     "output_type": "execute_result"
    }
   ],
   "source": [
    "df[df[\"Unit of Sale\"].isnull() == False].groupby([\"Package\"]).mean()\n"
   ]
  },
  {
   "attachments": {},
   "cell_type": "markdown",
   "metadata": {},
   "source": [
    "## Summary of the data\n",
    "It contains the prices of pumpkins sold from 11/29/2014 to 9/30/17. Each record has a low price and high price. Half of the record (817) have different low prices and high prices.\n",
    "\n",
    "Question: Can we predict the average price (low + high) / 2 ?\n",
    "Package can be pounds, or volumes like brushel. We use just one type of package."
   ]
  },
  {
   "cell_type": "code",
   "execution_count": 110,
   "metadata": {},
   "outputs": [
    {
     "data": {
      "text/plain": [
       "Package\n",
       "1 1/9 bushel cartons    117\n",
       "1 1/9 bushel crates      17\n",
       "1/2 bushel cartons      234\n",
       "20 lb cartons             6\n",
       "22 lb cartons            10\n",
       "24 inch bins            551\n",
       "35 lb cartons            42\n",
       "36 inch bins            663\n",
       "40 lb cartons            19\n",
       "50 lb cartons            10\n",
       "50 lb sacks              11\n",
       "bins                     13\n",
       "bushel baskets           10\n",
       "bushel cartons           37\n",
       "each                     17\n",
       "dtype: int64"
      ]
     },
     "execution_count": 110,
     "metadata": {},
     "output_type": "execute_result"
    }
   ],
   "source": [
    "df.groupby([\"Package\"]).size()"
   ]
  },
  {
   "attachments": {},
   "cell_type": "markdown",
   "metadata": {},
   "source": [
    "\"bins\" give us the most data. "
   ]
  },
  {
   "cell_type": "code",
   "execution_count": 151,
   "metadata": {},
   "outputs": [
    {
     "data": {
      "text/plain": [
       "(1074, 18)"
      ]
     },
     "execution_count": 151,
     "metadata": {},
     "output_type": "execute_result"
    }
   ],
   "source": [
    "df_bins = df[df.Package.str.contains(\".*\\sbins\", regex=True) & (df[\"Unit of Sale\"].isnull())]\n",
    "df_bins.shape"
   ]
  },
  {
   "cell_type": "code",
   "execution_count": 162,
   "metadata": {},
   "outputs": [],
   "source": [
    "df[\"Unit Price\"] = df[\"Price\"]"
   ]
  },
  {
   "cell_type": "code",
   "execution_count": 175,
   "metadata": {},
   "outputs": [
    {
     "name": "stderr",
     "output_type": "stream",
     "text": [
      "/home/jiheng/.local/lib/python3.7/site-packages/ipykernel_launcher.py:2: SettingWithCopyWarning: \n",
      "A value is trying to be set on a copy of a slice from a DataFrame.\n",
      "Try using .loc[row_indexer,col_indexer] = value instead\n",
      "\n",
      "See the caveats in the documentation: https://pandas.pydata.org/pandas-docs/stable/user_guide/indexing.html#returning-a-view-versus-a-copy\n",
      "  \n",
      "/home/jiheng/.local/lib/python3.7/site-packages/ipykernel_launcher.py:3: SettingWithCopyWarning: \n",
      "A value is trying to be set on a copy of a slice from a DataFrame.\n",
      "Try using .loc[row_indexer,col_indexer] = value instead\n",
      "\n",
      "See the caveats in the documentation: https://pandas.pydata.org/pandas-docs/stable/user_guide/indexing.html#returning-a-view-versus-a-copy\n",
      "  This is separate from the ipykernel package so we can avoid doing imports until\n"
     ]
    }
   ],
   "source": [
    "import numpy as np\n",
    "df_bins[\"Unit Price\"] = df_bins[\"Price\"]\n",
    "df_bins[\"Unit Price\"] = np.where(df_bins[\"Package\"].str.contains(\"24\"), df_bins[\"Price\"] / 24, df_bins[\"Price\"] / 36)"
   ]
  },
  {
   "cell_type": "code",
   "execution_count": 177,
   "metadata": {},
   "outputs": [
    {
     "data": {
      "text/html": [
       "<div>\n",
       "<style scoped>\n",
       "    .dataframe tbody tr th:only-of-type {\n",
       "        vertical-align: middle;\n",
       "    }\n",
       "\n",
       "    .dataframe tbody tr th {\n",
       "        vertical-align: top;\n",
       "    }\n",
       "\n",
       "    .dataframe thead th {\n",
       "        text-align: right;\n",
       "    }\n",
       "</style>\n",
       "<table border=\"1\" class=\"dataframe\">\n",
       "  <thead>\n",
       "    <tr style=\"text-align: right;\">\n",
       "      <th></th>\n",
       "      <th>Low Price</th>\n",
       "      <th>High Price</th>\n",
       "      <th>Mostly Low</th>\n",
       "      <th>Mostly High</th>\n",
       "      <th>Price</th>\n",
       "      <th>Unit Price</th>\n",
       "    </tr>\n",
       "    <tr>\n",
       "      <th>Package</th>\n",
       "      <th></th>\n",
       "      <th></th>\n",
       "      <th></th>\n",
       "      <th></th>\n",
       "      <th></th>\n",
       "      <th></th>\n",
       "    </tr>\n",
       "  </thead>\n",
       "  <tbody>\n",
       "    <tr>\n",
       "      <th>24 inch bins</th>\n",
       "      <td>181.386640</td>\n",
       "      <td>189.007591</td>\n",
       "      <td>187.685345</td>\n",
       "      <td>192.589978</td>\n",
       "      <td>185.197115</td>\n",
       "      <td>7.716546</td>\n",
       "    </tr>\n",
       "    <tr>\n",
       "      <th>36 inch bins</th>\n",
       "      <td>167.405172</td>\n",
       "      <td>181.770690</td>\n",
       "      <td>171.266174</td>\n",
       "      <td>176.879852</td>\n",
       "      <td>174.587931</td>\n",
       "      <td>4.849665</td>\n",
       "    </tr>\n",
       "  </tbody>\n",
       "</table>\n",
       "</div>"
      ],
      "text/plain": [
       "               Low Price  High Price  Mostly Low  Mostly High       Price  \\\n",
       "Package                                                                     \n",
       "24 inch bins  181.386640  189.007591  187.685345   192.589978  185.197115   \n",
       "36 inch bins  167.405172  181.770690  171.266174   176.879852  174.587931   \n",
       "\n",
       "              Unit Price  \n",
       "Package                   \n",
       "24 inch bins    7.716546  \n",
       "36 inch bins    4.849665  "
      ]
     },
     "execution_count": 177,
     "metadata": {},
     "output_type": "execute_result"
    }
   ],
   "source": [
    "df_bins.groupby(\"Package\").mean()"
   ]
  },
  {
   "cell_type": "code",
   "execution_count": 180,
   "metadata": {},
   "outputs": [
    {
     "name": "stderr",
     "output_type": "stream",
     "text": [
      "/home/jiheng/.local/lib/python3.7/site-packages/ipykernel_launcher.py:1: SettingWithCopyWarning: \n",
      "A value is trying to be set on a copy of a slice from a DataFrame.\n",
      "Try using .loc[row_indexer,col_indexer] = value instead\n",
      "\n",
      "See the caveats in the documentation: https://pandas.pydata.org/pandas-docs/stable/user_guide/indexing.html#returning-a-view-versus-a-copy\n",
      "  \"\"\"Entry point for launching an IPython kernel.\n"
     ]
    }
   ],
   "source": [
    "df_bins[\"Month\"] = pd.DatetimeIndex(df_bins.Date).month"
   ]
  },
  {
   "cell_type": "code",
   "execution_count": 183,
   "metadata": {},
   "outputs": [
    {
     "name": "stderr",
     "output_type": "stream",
     "text": [
      "/home/jiheng/.local/lib/python3.7/site-packages/ipykernel_launcher.py:1: SettingWithCopyWarning: \n",
      "A value is trying to be set on a copy of a slice from a DataFrame.\n",
      "Try using .loc[row_indexer,col_indexer] = value instead\n",
      "\n",
      "See the caveats in the documentation: https://pandas.pydata.org/pandas-docs/stable/user_guide/indexing.html#returning-a-view-versus-a-copy\n",
      "  \"\"\"Entry point for launching an IPython kernel.\n"
     ]
    }
   ],
   "source": [
    "df_bins[\"Year\"] = pd.DatetimeIndex(df_bins.Date).year"
   ]
  },
  {
   "cell_type": "code",
   "execution_count": 184,
   "metadata": {},
   "outputs": [],
   "source": [
    "import matplotlib.pyplot as plt"
   ]
  },
  {
   "cell_type": "code",
   "execution_count": 187,
   "metadata": {},
   "outputs": [
    {
     "data": {
      "text/plain": [
       "<matplotlib.collections.PathCollection at 0x7f047ba6f4e0>"
      ]
     },
     "execution_count": 187,
     "metadata": {},
     "output_type": "execute_result"
    },
    {
     "data": {
      "image/png": "[encoded data removed]",
      "text/plain": [
       "<Figure size 640x480 with 1 Axes>"
      ]
     },
     "metadata": {},
     "output_type": "display_data"
    }
   ],
   "source": [
    "plt.scatter(df_bins.Month, df_bins[\"Unit Price\"])"
   ]
  },
  {
   "cell_type": "code",
   "execution_count": 192,
   "metadata": {},
   "outputs": [
    {
     "data": {
      "text/plain": [
       "<AxesSubplot:xlabel='Month'>"
      ]
     },
     "execution_count": 192,
     "metadata": {},
     "output_type": "execute_result"
    },
    {
     "data": {
      "image/png": "[encoded data removed]",
      "text/plain": [
       "<Figure size 640x480 with 1 Axes>"
      ]
     },
     "metadata": {},
     "output_type": "display_data"
    }
   ],
   "source": [
    "df_bins.groupby(\"Month\")[\"Unit Price\"].median().plot(kind=\"bar\")"
   ]
  },
  {
   "cell_type": "code",
   "execution_count": null,
   "metadata": {},
   "outputs": [],
   "source": []
  }
 ],
 "metadata": {
  "kernelspec": {
   "display_name": "Python 3",
   "language": "python",
   "name": "python3"
  },
  "language_info": {
   "codemirror_mode": {
    "name": "ipython",
    "version": 3
   },
   "file_extension": ".py",
   "mimetype": "text/x-python",
   "name": "python",
   "nbconvert_exporter": "python",
   "pygments_lexer": "ipython3",
   "version": "3.7.3"
  },
  "orig_nbformat": 4
 },
 "nbformat": 4,
 "nbformat_minor": 2
}
