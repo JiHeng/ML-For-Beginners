{
 "cells": [
  {
   "attachments": {},
   "cell_type": "markdown",
   "metadata": {},
   "source": [
    "# Delicious Asian and Indian Cuisines \n",
    "\n",
    "## Tasks\n",
    "1. Learn the data\n",
    "2. What are the questions you can ask? What kind of application can you build with the data?\n",
    "+ Given a list of ingredient, what cuisine can you make?\n",
    "3. Resample the data"
   ]
  },
  {
   "cell_type": "code",
   "execution_count": 1,
   "metadata": {},
   "outputs": [],
   "source": [
    "import pandas as pd\n",
    "df = pd.read_csv(\"../data/cuisines.csv\")"
   ]
  },
  {
   "cell_type": "code",
   "execution_count": 2,
   "metadata": {},
   "outputs": [
    {
     "name": "stdout",
     "output_type": "stream",
     "text": [
      "<class 'pandas.core.frame.DataFrame'>\n",
      "RangeIndex: 2448 entries, 0 to 2447\n",
      "Columns: 385 entries, Unnamed: 0 to zucchini\n",
      "dtypes: int64(384), object(1)\n",
      "memory usage: 7.2+ MB\n"
     ]
    }
   ],
   "source": [
    "df.info()"
   ]
  },
  {
   "cell_type": "code",
   "execution_count": 3,
   "metadata": {},
   "outputs": [
    {
     "name": "stdout",
     "output_type": "stream",
     "text": [
      "Index(['Unnamed: 0', 'cuisine', 'almond', 'angelica', 'anise', 'anise_seed',\n",
      "       'apple', 'apple_brandy', 'apricot', 'armagnac',\n",
      "       ...\n",
      "       'whiskey', 'white_bread', 'white_wine', 'whole_grain_wheat_flour',\n",
      "       'wine', 'wood', 'yam', 'yeast', 'yogurt', 'zucchini'],\n",
      "      dtype='object', length=385)\n"
     ]
    }
   ],
   "source": [
    "print(df.columns)"
   ]
  },
  {
   "cell_type": "code",
   "execution_count": 4,
   "metadata": {},
   "outputs": [
    {
     "name": "stdout",
     "output_type": "stream",
     "text": [
      "count       2448\n",
      "unique         5\n",
      "top       korean\n",
      "freq         799\n",
      "Name: cuisine, dtype: object\n",
      "0\n",
      "['indian' 'thai' 'chinese' 'japanese' 'korean']\n",
      "korean      799\n",
      "indian      598\n",
      "chinese     442\n",
      "japanese    320\n",
      "thai        289\n",
      "Name: cuisine, dtype: int64\n"
     ]
    },
    {
     "data": {
      "text/plain": [
       "<AxesSubplot:>"
      ]
     },
     "execution_count": 4,
     "metadata": {},
     "output_type": "execute_result"
    },
    {
     "data": {
      "image/png": "[encoded data removed]",
      "text/plain": [
       "<Figure size 640x480 with 1 Axes>"
      ]
     },
     "metadata": {},
     "output_type": "display_data"
    }
   ],
   "source": [
    "print(df.cuisine.describe())\n",
    "print(df.cuisine.isna().sum())\n",
    "print(df.cuisine.unique())\n",
    "print(df.cuisine.value_counts())\n",
    "df.cuisine.value_counts().plot.barh()"
   ]
  },
  {
   "cell_type": "code",
   "execution_count": 5,
   "metadata": {},
   "outputs": [
    {
     "data": {
      "text/plain": [
       "korean      32.638889\n",
       "indian      24.428105\n",
       "chinese     18.055556\n",
       "japanese    13.071895\n",
       "thai        11.805556\n",
       "Name: cuisine, dtype: float64"
      ]
     },
     "execution_count": 5,
     "metadata": {},
     "output_type": "execute_result"
    }
   ],
   "source": [
    "df.cuisine.value_counts() * 100 / df.shape[0]"
   ]
  },
  {
   "cell_type": "code",
   "execution_count": 9,
   "metadata": {},
   "outputs": [
    {
     "data": {
      "text/plain": [
       "0"
      ]
     },
     "execution_count": 9,
     "metadata": {},
     "output_type": "execute_result"
    }
   ],
   "source": [
    "# check missing values\n",
    "(df.isna().sum() > 0).sum()"
   ]
  },
  {
   "attachments": {},
   "cell_type": "markdown",
   "metadata": {},
   "source": [
    "### How many columns are there, what are they\n",
    "There are 385 columns. One column is \"cuisine\", 383 columns are ingredient names, one column is 'Unamed: 0'\n",
    "1. **cuisine** \n",
    "> has 5 unique values. Each row has cuisine, no missing value. The 5 cuisines are \"indian\", \"thai\", \"chinese\", \"japanese\" and \"korean\". There are 2448 records. Korean cusine is the most popular cuisine. thai has the least record.\\\n",
    ">Korean cuisine is 32.6%. Thai is 11.8%, Japanese is 13.07%\n",
    "\n",
    "2. No missing value in any of the column\n",
    "3. There are 2448 records.\n",
    "4. Unnamed: 0 is numeric. Other columns are binary.  99 columns are all 0 or 1.\n",
    "5. After dropping \"Unnamed: 0\" and the 99 columns. There are 284 ingredients."
   ]
  },
  {
   "cell_type": "code",
   "execution_count": 10,
   "metadata": {},
   "outputs": [
    {
     "name": "stdout",
     "output_type": "stream",
     "text": [
      "1 columns are not binary: ['Unnamed: 0']\n"
     ]
    }
   ],
   "source": [
    "# check if all ingredients columns are binary\n",
    "ingredient_columns = [x for x in df.columns if x != 'cuisine']\n",
    "non_binary = []\n",
    "for col in ingredient_columns:\n",
    "    if(df[(df[col] != 0) & (df[col] != 1)].size > 0):\n",
    "        non_binary += [col]\n",
    "\n",
    "print(f\"{len(non_binary)} columns are not binary: {non_binary}\")"
   ]
  },
  {
   "cell_type": "code",
   "execution_count": 11,
   "metadata": {},
   "outputs": [
    {
     "data": {
      "text/plain": [
       "count     2448.000000\n",
       "mean     16040.551471\n",
       "std      13625.719887\n",
       "min         65.000000\n",
       "25%      10907.750000\n",
       "50%      15263.500000\n",
       "75%      16926.250000\n",
       "max      57690.000000\n",
       "Name: Unnamed: 0, dtype: float64"
      ]
     },
     "execution_count": 11,
     "metadata": {},
     "output_type": "execute_result"
    }
   ],
   "source": [
    "df[\"Unnamed: 0\"].describe()"
   ]
  },
  {
   "cell_type": "code",
   "execution_count": 12,
   "metadata": {},
   "outputs": [
    {
     "name": "stdout",
     "output_type": "stream",
     "text": [
      "99 columns are all 0 or 1. ['angelica', 'apple_brandy', 'armagnac', 'artichoke', 'baked_potato', 'balm', 'bartlett_pear', 'bergamot', 'black_currant', 'black_raspberry', 'blackberry_brandy', 'blue_cheese', 'bourbon_whiskey', 'cabernet_sauvignon_wine', 'cacao', 'camembert_cheese', 'carnation', 'carob', 'cassava', 'cereal', 'chamomile', 'cherry_brandy', 'chicken_liver', 'clove', 'concord_grape', 'condiment', 'corn_grit', 'cottage_cheese', 'cured_pork', 'durian', 'elderberry', 'emmental_cheese', 'flower', 'geranium', 'grape_brandy', 'guava', 'hazelnut', 'herring', 'hop', 'huckleberry', 'jamaican_rum', 'jasmine_tea', 'juniper_berry', 'kaffir_lime', 'laurel', 'lavender', 'leaf', 'lilac_flower_oil', 'lingonberry', 'long_pepper', 'lovage', 'mate', 'munster_cheese', 'muscat_grape', 'mutton', 'nectarine', 'oat', 'orange_flower', 'ouzo', 'pear_brandy', 'pelargonium', 'peppermint_oil', 'pimenta', 'pimento', 'popcorn', 'pork_liver', 'port_wine', 'prickly_pear', 'quince', 'rapeseed', 'red_kidney_bean', 'rhubarb', 'roasted_almond', 'roasted_hazelnut', 'roasted_meat', 'roasted_nut', 'roasted_pecan', 'romano_cheese', 'roquefort_cheese', 'rutabaga', 'rye_bread', 'rye_flour', 'sassafras', 'sheep_cheese', 'smoked_fish', 'smoked_sausage', 'sour_milk', 'soybean_oil', 'spearmint', 'strawberry_jam', 'strawberry_juice', 'sturgeon_caviar', 'sumac', 'swiss_cheese', 'tequila', 'truffle', 'violet', 'whiskey', 'wood']\n"
     ]
    }
   ],
   "source": [
    "## find columns that all zero or all one\n",
    "columns = []\n",
    "total = df.shape[0]\n",
    "for col in ingredient_columns:\n",
    "    if (df[df[col] == 0].shape[0] == total):\n",
    "        columns += [col]\n",
    "\n",
    "    if (df[df[col] == 1].shape[0] == total):\n",
    "        columns += [col]\n",
    "\n",
    "print(f\"{len(columns)} columns are all 0 or 1. {columns}\")"
   ]
  },
  {
   "cell_type": "code",
   "execution_count": 13,
   "metadata": {},
   "outputs": [],
   "source": [
    "## drop these columns\n",
    "df.drop(columns + [\"Unnamed: 0\"], axis=1, inplace=True)"
   ]
  },
  {
   "cell_type": "code",
   "execution_count": 14,
   "metadata": {},
   "outputs": [
    {
     "name": "stdout",
     "output_type": "stream",
     "text": [
      "<class 'pandas.core.frame.DataFrame'>\n",
      "RangeIndex: 2448 entries, 0 to 2447\n",
      "Columns: 285 entries, cuisine to zucchini\n",
      "dtypes: int64(284), object(1)\n",
      "memory usage: 5.3+ MB\n"
     ]
    }
   ],
   "source": [
    "df.info()"
   ]
  },
  {
   "cell_type": "code",
   "execution_count": 16,
   "metadata": {},
   "outputs": [],
   "source": [
    "## oversample\n",
    "from imblearn.over_sampling import SMOTE\n",
    "oversample = SMOTE()\n",
    "feature_columns = [c for c in df.columns if c != 'cuisine']\n",
    "label_column = [\"cuisine\"]\n",
    "X, y = oversample.fit_resample(df[feature_columns], df[label_column])\n"
   ]
  },
  {
   "cell_type": "code",
   "execution_count": 17,
   "metadata": {},
   "outputs": [
    {
     "name": "stdout",
     "output_type": "stream",
     "text": [
      "<class 'pandas.core.frame.DataFrame'>\n",
      "RangeIndex: 3995 entries, 0 to 3994\n",
      "Columns: 284 entries, almond to zucchini\n",
      "dtypes: int64(284)\n",
      "memory usage: 8.7 MB\n"
     ]
    }
   ],
   "source": [
    "X.info()"
   ]
  },
  {
   "cell_type": "code",
   "execution_count": 18,
   "metadata": {},
   "outputs": [
    {
     "data": {
      "text/plain": [
       "<AxesSubplot:ylabel='cuisine'>"
      ]
     },
     "execution_count": 18,
     "metadata": {},
     "output_type": "execute_result"
    },
    {
     "data": {
      "image/png": "[encoded data removed]",
      "text/plain": [
       "<Figure size 640x480 with 1 Axes>"
      ]
     },
     "metadata": {},
     "output_type": "display_data"
    }
   ],
   "source": [
    "y.value_counts().plot.barh()"
   ]
  },
  {
   "cell_type": "code",
   "execution_count": 19,
   "metadata": {},
   "outputs": [],
   "source": [
    "cleaned_data = pd.concat([X, y], axis=1)"
   ]
  },
  {
   "cell_type": "code",
   "execution_count": 20,
   "metadata": {},
   "outputs": [
    {
     "name": "stdout",
     "output_type": "stream",
     "text": [
      "<class 'pandas.core.frame.DataFrame'>\n",
      "RangeIndex: 3995 entries, 0 to 3994\n",
      "Columns: 285 entries, almond to cuisine\n",
      "dtypes: int64(284), object(1)\n",
      "memory usage: 8.7+ MB\n"
     ]
    }
   ],
   "source": [
    "cleaned_data.info()"
   ]
  },
  {
   "cell_type": "code",
   "execution_count": 26,
   "metadata": {},
   "outputs": [],
   "source": [
    "cleaned_data.to_csv(\"../data/cleaned_cuisines_jiheng.csv\", index=False)"
   ]
  },
  {
   "cell_type": "code",
   "execution_count": null,
   "metadata": {},
   "outputs": [],
   "source": []
  }
 ],
 "metadata": {
  "kernelspec": {
   "display_name": "Python 3",
   "language": "python",
   "name": "python3"
  },
  "language_info": {
   "codemirror_mode": {
    "name": "ipython",
    "version": 3
   },
   "file_extension": ".py",
   "mimetype": "text/x-python",
   "name": "python",
   "nbconvert_exporter": "python",
   "pygments_lexer": "ipython3",
   "version": "3.7.3"
  },
  "orig_nbformat": 2
 },
 "nbformat": 4,
 "nbformat_minor": 2
}
