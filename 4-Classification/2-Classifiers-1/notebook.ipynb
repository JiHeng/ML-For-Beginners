{
 "cells": [
  {
   "attachments": {},
   "cell_type": "markdown",
   "metadata": {},
   "source": [
    "# Build Classification Models\n",
    "1. Use OneR model as a baseline\n",
    "2. Use LogistricRegression"
   ]
  },
  {
   "cell_type": "code",
   "execution_count": 91,
   "metadata": {},
   "outputs": [
    {
     "name": "stdout",
     "output_type": "stream",
     "text": [
      "<class 'pandas.core.frame.DataFrame'>\n",
      "RangeIndex: 3995 entries, 0 to 3994\n",
      "Columns: 284 entries, almond to zucchini\n",
      "dtypes: int64(284)\n",
      "memory usage: 8.7 MB\n"
     ]
    }
   ],
   "source": [
    "import pandas as pd\n",
    "df = pd.read_csv(\"../data/cleaned_cuisines_jiheng.csv\")\n",
    "y = df[[\"cuisine\"]]\n",
    "X = df.drop([\"cuisine\"], axis=1)\n",
    "X.info()"
   ]
  },
  {
   "cell_type": "code",
   "execution_count": 92,
   "metadata": {},
   "outputs": [
    {
     "name": "stderr",
     "output_type": "stream",
     "text": [
      "/home/jiheng/.local/lib/python3.7/site-packages/sklearn/preprocessing/_label.py:115: DataConversionWarning: A column-vector y was passed when a 1d array was expected. Please change the shape of y to (n_samples, ), for example using ravel().\n",
      "  y = column_or_1d(y, warn=True)\n",
      "/home/jiheng/.local/lib/python3.7/site-packages/ipykernel_launcher.py:4: SettingWithCopyWarning: \n",
      "A value is trying to be set on a copy of a slice from a DataFrame.\n",
      "Try using .loc[row_indexer,col_indexer] = value instead\n",
      "\n",
      "See the caveats in the documentation: https://pandas.pydata.org/pandas-docs/stable/user_guide/indexing.html#returning-a-view-versus-a-copy\n",
      "  after removing the cwd from sys.path.\n"
     ]
    }
   ],
   "source": [
    "# label y\n",
    "from sklearn.preprocessing import LabelEncoder\n",
    "labelEncoder = LabelEncoder()\n",
    "y[\"cuisine\"] = labelEncoder.fit_transform(y)"
   ]
  },
  {
   "cell_type": "code",
   "execution_count": 93,
   "metadata": {},
   "outputs": [],
   "source": [
    "labels_to_name = dict(zip([0,1,2,3,4],labelEncoder.inverse_transform([0,1,2,3,4])))\n",
    "name_to_label = dict(zip(labelEncoder.inverse_transform([0,1,2,3,4]), [0,1,2,3,4]))"
   ]
  },
  {
   "cell_type": "code",
   "execution_count": 94,
   "metadata": {},
   "outputs": [],
   "source": [
    "from sklearn.model_selection import train_test_split\n",
    "X_train = pd.DataFrame()\n",
    "y_train = pd.DataFrame()\n",
    "X_test = pd.DataFrame()\n",
    "y_test = pd.DataFrame()\n",
    "for c in y[\"cuisine\"].unique():\n",
    "    index = y.cuisine == c\n",
    "    X_train_temp, X_test_temp, y_train_temp, y_test_temp = train_test_split(X.loc[index], y.loc[index], test_size=0.2)\n",
    "    X_train = pd.concat([X_train, X_train_temp])\n",
    "    X_test = pd.concat([X_test, X_test_temp])\n",
    "    y_train = pd.concat([y_train, y_train_temp])\n",
    "    y_test = pd.concat([y_test, y_test_temp])"
   ]
  },
  {
   "attachments": {},
   "cell_type": "markdown",
   "metadata": {},
   "source": [
    "## Build OneR model\n",
    "1. Given a column, for each value (0 or 1), find the most frequent cuisine, that's the prediction.\n",
    "2. Calculate the accurcy for the prediction.\n",
    "3. Find the column that produces the highest accurracy"
   ]
  },
  {
   "cell_type": "code",
   "execution_count": 95,
   "metadata": {},
   "outputs": [],
   "source": [
    "def predict_one_r(X_train, y_train, col, X_test):\n",
    "    one_pred = y_train.loc[X_train[col] == 0].mode()\n",
    "    zero_pred = y_train.loc[X_train[col] == 1].mode()\n",
    "    if (one_pred.shape[0] == 0):\n",
    "        one_pred = 0\n",
    "    else:\n",
    "        one_pred = one_pred.iloc[0][\"cuisine\"]\n",
    "\n",
    "    if (zero_pred.shape[0] == 0):\n",
    "        zero_pred = 0\n",
    "    else:\n",
    "        zero_pred = zero_pred.iloc[0][\"cuisine\"]\n",
    "\n",
    "    return X_test[col].map(lambda val: one_pred if val == 1 else zero_pred)"
   ]
  },
  {
   "cell_type": "code",
   "execution_count": 96,
   "metadata": {},
   "outputs": [
    {
     "name": "stdout",
     "output_type": "stream",
     "text": [
      "oneR model: column anise, accuracy: 0.19968701095461658, f1_score: 0.06657970258283329\n"
     ]
    }
   ],
   "source": [
    "\n",
    "from sklearn.metrics import accuracy_score, f1_score\n",
    "selected_column = None\n",
    "accuracy = 0\n",
    "y_pred = None\n",
    "for col in X_train.columns:\n",
    "    one_pred = y_train.loc[X_train[col] == 0].mode()\n",
    "    zero_pred = y_train.loc[X_train[col] == 1].mode()\n",
    "    if (one_pred.shape[0] == 0):\n",
    "        continue\n",
    "    else:\n",
    "        one_pred = one_pred.iloc[0][\"cuisine\"]\n",
    "\n",
    "    if (zero_pred.shape[0] == 0):\n",
    "        continue\n",
    "    else:\n",
    "        zero_pred = zero_pred.iloc[0][\"cuisine\"]\n",
    "\n",
    "    y_pred_col = X_train[col].map(lambda val: one_pred if val == 1 else zero_pred)\n",
    "    score = accuracy_score(y_train, y_pred_col)\n",
    "    if (score > accuracy):\n",
    "        selected_column = col\n",
    "        accuracy = score\n",
    "        y_pred = y_pred_col\n",
    "\n",
    "print(f\"oneR model: column {selected_column}, accuracy: {accuracy}, f1_score: {f1_score(y_train, y_pred, average='weighted')}\")\n",
    "y_test_pred = predict_one_r(X_train, y_train, selected_column, X_test)\n"
   ]
  },
  {
   "cell_type": "code",
   "execution_count": 97,
   "metadata": {},
   "outputs": [
    {
     "name": "stdout",
     "output_type": "stream",
     "text": [
      "              precision    recall  f1-score   support\n",
      "\n",
      "           0       0.00      0.00      0.00       160\n",
      "           1       0.00      0.00      0.00       160\n",
      "           2       0.00      0.00      0.00       160\n",
      "           3       0.00      0.00      0.00       160\n",
      "           4       0.20      1.00      0.33       160\n",
      "\n",
      "    accuracy                           0.20       800\n",
      "   macro avg       0.04      0.20      0.07       800\n",
      "weighted avg       0.04      0.20      0.07       800\n",
      "\n"
     ]
    },
    {
     "name": "stderr",
     "output_type": "stream",
     "text": [
      "/home/jiheng/.local/lib/python3.7/site-packages/sklearn/metrics/_classification.py:1318: UndefinedMetricWarning: Precision and F-score are ill-defined and being set to 0.0 in labels with no predicted samples. Use `zero_division` parameter to control this behavior.\n",
      "  _warn_prf(average, modifier, msg_start, len(result))\n",
      "/home/jiheng/.local/lib/python3.7/site-packages/sklearn/metrics/_classification.py:1318: UndefinedMetricWarning: Precision and F-score are ill-defined and being set to 0.0 in labels with no predicted samples. Use `zero_division` parameter to control this behavior.\n",
      "  _warn_prf(average, modifier, msg_start, len(result))\n",
      "/home/jiheng/.local/lib/python3.7/site-packages/sklearn/metrics/_classification.py:1318: UndefinedMetricWarning: Precision and F-score are ill-defined and being set to 0.0 in labels with no predicted samples. Use `zero_division` parameter to control this behavior.\n",
      "  _warn_prf(average, modifier, msg_start, len(result))\n"
     ]
    }
   ],
   "source": [
    "from sklearn.metrics import classification_report\n",
    "y_test_pred = predict_one_r(X_train, y_train, selected_column, X_test)\n",
    "print(classification_report(y_test, y_test_pred))"
   ]
  },
  {
   "cell_type": "code",
   "execution_count": 98,
   "metadata": {},
   "outputs": [
    {
     "name": "stderr",
     "output_type": "stream",
     "text": [
      "/home/jiheng/.local/lib/python3.7/site-packages/sklearn/utils/validation.py:993: DataConversionWarning: A column-vector y was passed when a 1d array was expected. Please change the shape of y to (n_samples, ), for example using ravel().\n",
      "  y = column_or_1d(y, warn=True)\n"
     ]
    },
    {
     "name": "stdout",
     "output_type": "stream",
     "text": [
      "              precision    recall  f1-score   support\n",
      "\n",
      "           0       0.76      0.78      0.77       160\n",
      "           1       0.90      0.92      0.91       160\n",
      "           2       0.76      0.77      0.77       160\n",
      "           3       0.85      0.79      0.82       160\n",
      "           4       0.79      0.81      0.80       160\n",
      "\n",
      "    accuracy                           0.81       800\n",
      "   macro avg       0.81      0.81      0.81       800\n",
      "weighted avg       0.81      0.81      0.81       800\n",
      "\n"
     ]
    }
   ],
   "source": [
    "from sklearn.linear_model import LogisticRegression\n",
    "model = LogisticRegression(multi_class='ovr')\n",
    "model.fit(X_train, y_train)\n",
    "y_pred = model.predict(X_test)\n",
    "print(classification_report(y_test, y_pred))"
   ]
  },
  {
   "cell_type": "code",
   "execution_count": 99,
   "metadata": {},
   "outputs": [
    {
     "name": "stderr",
     "output_type": "stream",
     "text": [
      "/home/jiheng/.local/lib/python3.7/site-packages/ipykernel_launcher.py:3: DataConversionWarning: A column-vector y was passed when a 1d array was expected. Please change the shape of y to (n_samples,), for example using ravel().\n",
      "  This is separate from the ipykernel package so we can avoid doing imports until\n"
     ]
    },
    {
     "name": "stdout",
     "output_type": "stream",
     "text": [
      "              precision    recall  f1-score   support\n",
      "\n",
      "           0       0.83      0.83      0.83       160\n",
      "           1       0.89      0.90      0.89       160\n",
      "           2       0.87      0.78      0.83       160\n",
      "           3       0.87      0.81      0.84       160\n",
      "           4       0.79      0.91      0.85       160\n",
      "\n",
      "    accuracy                           0.85       800\n",
      "   macro avg       0.85      0.85      0.85       800\n",
      "weighted avg       0.85      0.85      0.85       800\n",
      "\n"
     ]
    }
   ],
   "source": [
    "from sklearn.ensemble import RandomForestClassifier\n",
    "model = RandomForestClassifier()\n",
    "model.fit(X_train, y_train)\n",
    "y_pred = model.predict(X_test)\n",
    "print(classification_report(y_test, y_pred))"
   ]
  },
  {
   "cell_type": "code",
   "execution_count": null,
   "metadata": {},
   "outputs": [],
   "source": []
  }
 ],
 "metadata": {
  "kernelspec": {
   "display_name": "Python 3",
   "language": "python",
   "name": "python3"
  },
  "language_info": {
   "codemirror_mode": {
    "name": "ipython",
    "version": 3
   },
   "file_extension": ".py",
   "mimetype": "text/x-python",
   "name": "python",
   "nbconvert_exporter": "python",
   "pygments_lexer": "ipython3",
   "version": "3.7.3"
  },
  "orig_nbformat": 2
 },
 "nbformat": 4,
 "nbformat_minor": 2
}
